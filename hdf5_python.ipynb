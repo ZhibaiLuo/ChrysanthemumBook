{
 "cells": [
  {
   "cell_type": "code",
   "execution_count": 1,
   "metadata": {},
   "outputs": [],
   "source": [
    "import h5py  #导入工具包  \n",
    "import numpy as np  \n",
    "import pandas as pd"
   ]
  },
  {
   "cell_type": "code",
   "execution_count": 2,
   "metadata": {},
   "outputs": [],
   "source": [
    "data = np.zeros((3500, 2000))"
   ]
  },
  {
   "cell_type": "code",
   "execution_count": 3,
   "metadata": {},
   "outputs": [],
   "source": [
    "# f = h5py.File('mytestfile.hdf5', 'a')\n",
    "# ret = f.create_dataset('return1', data.shape)\n",
    "# ret = data\n",
    "# alpha = f.create_dataset('alpha', data.shape)\n",
    "# alpha = data\n",
    "# f.close()"
   ]
  },
  {
   "cell_type": "code",
   "execution_count": 4,
   "metadata": {},
   "outputs": [
    {
     "name": "stdout",
     "output_type": "stream",
     "text": [
      "<class 'h5py._hl.dataset.Dataset'>\n",
      "(3500, 2000)\n",
      "<class 'numpy.ndarray'>\n"
     ]
    }
   ],
   "source": [
    "f = h5py.File('mytestfile.hdf5', 'a')\n",
    "df = f['return']\n",
    "print(type(df))\n",
    "print(df.shape)\n",
    "df = np.array(df)\n",
    "print(type(df))"
   ]
  },
  {
   "cell_type": "code",
   "execution_count": 5,
   "metadata": {},
   "outputs": [
    {
     "data": {
      "text/plain": [
       "array([[0., 0., 0., ..., 0., 0., 0.],\n",
       "       [0., 0., 0., ..., 0., 0., 0.],\n",
       "       [0., 0., 0., ..., 0., 0., 0.],\n",
       "       ...,\n",
       "       [0., 0., 0., ..., 0., 0., 0.],\n",
       "       [0., 0., 0., ..., 0., 0., 0.],\n",
       "       [0., 0., 0., ..., 0., 0., 0.]], dtype=float32)"
      ]
     },
     "execution_count": 5,
     "metadata": {},
     "output_type": "execute_result"
    }
   ],
   "source": [
    "df"
   ]
  },
  {
   "cell_type": "code",
   "execution_count": 6,
   "metadata": {},
   "outputs": [
    {
     "data": {
      "text/plain": [
       "(6, 3, 10)"
      ]
     },
     "execution_count": 6,
     "metadata": {},
     "output_type": "execute_result"
    }
   ],
   "source": [
    "import numpy as np\n",
    "\n",
    "w = np.arange(6 * 5).reshape(6, 5)\n",
    "X = np.arange(3 * 10 * 5).reshape(3, 10, 5)\n",
    "\n",
    "output = np.einsum('ij, klj->ikl', w, X)\n",
    "output.shape"
   ]
  },
  {
   "cell_type": "code",
   "execution_count": 7,
   "metadata": {},
   "outputs": [
    {
     "data": {
      "text/plain": [
       "array([[     2686515000,      2686559850,      2686604700, ...,\n",
       "             2699835450,      2699880300,      2699925150],\n",
       "       [    18859515000,     18859649850,     18859784700, ...,\n",
       "            18899565450,     18899700300,     18899835150],\n",
       "       [    51232515000,     51232739850,     51232964700, ...,\n",
       "            51299295450,     51299520300,     51299745150],\n",
       "       ...,\n",
       "       [315945967515000, 315945985289850, 315946003064700, ...,\n",
       "        315951246645450, 315951264420300, 315951282195150],\n",
       "       [319153540515000, 319153558379850, 319153576244700, ...,\n",
       "        319158846375450, 319158864240300, 319158882105150],\n",
       "       [322377313515000, 322377331469850, 322377349424700, ...,\n",
       "        322382646105450, 322382664060300, 322382682015150]])"
      ]
     },
     "execution_count": 7,
     "metadata": {},
     "output_type": "execute_result"
    }
   ],
   "source": [
    "n = 300\n",
    "D = 200\n",
    "delta = np.arange(D * n).reshape(D, n)\n",
    "M = np.arange(D * n * n).reshape(D, n, n)\n",
    "result = np.zeros((D, n), int)\n",
    "for i in range(D):\n",
    "    result[i, :] = np.dot(delta[i, :], M[i, :, :])\n",
    "result"
   ]
  },
  {
   "cell_type": "code",
   "execution_count": null,
   "metadata": {},
   "outputs": [],
   "source": [
    "n = 300\n",
    "D = 200\n",
    "delta = np.arange(D * n).reshape(D, n)\n",
    "M = np.arange(D * n * n).reshape(D, n, n)\n",
    "np.einsum('ij,ijk->ik',delta, M) "
   ]
  },
  {
   "cell_type": "code",
   "execution_count": null,
   "metadata": {},
   "outputs": [],
   "source": [
    "n = 3000\n",
    "D = 2000\n",
    "delta = np.arange(D * n).reshape(D, n)\n",
    "M = np.arange(D * n * n).reshape(D, n, n)\n",
    "np.matmul(delta[:,None,:], M) "
   ]
  },
  {
   "cell_type": "code",
   "execution_count": null,
   "metadata": {},
   "outputs": [],
   "source": []
  }
 ],
 "metadata": {
  "kernelspec": {
   "display_name": "Python 3",
   "language": "python",
   "name": "python3"
  },
  "language_info": {
   "codemirror_mode": {
    "name": "ipython",
    "version": 3
   },
   "file_extension": ".py",
   "mimetype": "text/x-python",
   "name": "python",
   "nbconvert_exporter": "python",
   "pygments_lexer": "ipython3",
   "version": "3.7.4"
  }
 },
 "nbformat": 4,
 "nbformat_minor": 2
}
