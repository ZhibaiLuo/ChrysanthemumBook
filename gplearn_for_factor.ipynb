{
 "cells": [
  {
   "cell_type": "code",
   "execution_count": 13,
   "metadata": {},
   "outputs": [],
   "source": [
    "import pandas_datareader.data as web\n",
    "import pandas as pd\n",
    "import numpy as np\n",
    "from talib import RSI, BBANDS\n",
    "import talib\n",
    "import matplotlib.pyplot as plt"
   ]
  },
  {
   "cell_type": "code",
   "execution_count": 18,
   "metadata": {},
   "outputs": [
    {
     "data": {
      "text/html": [
       "<div>\n",
       "<style scoped>\n",
       "    .dataframe tbody tr th:only-of-type {\n",
       "        vertical-align: middle;\n",
       "    }\n",
       "\n",
       "    .dataframe tbody tr th {\n",
       "        vertical-align: top;\n",
       "    }\n",
       "\n",
       "    .dataframe thead th {\n",
       "        text-align: right;\n",
       "    }\n",
       "</style>\n",
       "<table border=\"1\" class=\"dataframe\">\n",
       "  <thead>\n",
       "    <tr style=\"text-align: right;\">\n",
       "      <th></th>\n",
       "      <th>Open</th>\n",
       "      <th>High</th>\n",
       "      <th>Low</th>\n",
       "      <th>Close</th>\n",
       "      <th>Volume</th>\n",
       "      <th>Return</th>\n",
       "      <th>Return1</th>\n",
       "    </tr>\n",
       "    <tr>\n",
       "      <th>Date</th>\n",
       "      <th></th>\n",
       "      <th></th>\n",
       "      <th></th>\n",
       "      <th></th>\n",
       "      <th></th>\n",
       "      <th></th>\n",
       "      <th></th>\n",
       "    </tr>\n",
       "  </thead>\n",
       "  <tbody>\n",
       "    <tr>\n",
       "      <td>2010-01-06</td>\n",
       "      <td>27.550818</td>\n",
       "      <td>27.660055</td>\n",
       "      <td>27.084312</td>\n",
       "      <td>27.112585</td>\n",
       "      <td>138040000.0</td>\n",
       "      <td>-0.015906</td>\n",
       "      <td>-0.014205</td>\n",
       "    </tr>\n",
       "    <tr>\n",
       "      <td>2010-01-07</td>\n",
       "      <td>27.212826</td>\n",
       "      <td>27.244955</td>\n",
       "      <td>26.865839</td>\n",
       "      <td>27.062465</td>\n",
       "      <td>119282800.0</td>\n",
       "      <td>-0.001849</td>\n",
       "      <td>-0.017726</td>\n",
       "    </tr>\n",
       "    <tr>\n",
       "      <td>2010-01-08</td>\n",
       "      <td>27.026481</td>\n",
       "      <td>27.244955</td>\n",
       "      <td>26.867124</td>\n",
       "      <td>27.242385</td>\n",
       "      <td>111902700.0</td>\n",
       "      <td>0.006648</td>\n",
       "      <td>0.004787</td>\n",
       "    </tr>\n",
       "    <tr>\n",
       "      <td>2010-01-11</td>\n",
       "      <td>27.347766</td>\n",
       "      <td>27.373469</td>\n",
       "      <td>26.788730</td>\n",
       "      <td>27.002063</td>\n",
       "      <td>115557400.0</td>\n",
       "      <td>-0.008822</td>\n",
       "      <td>-0.002232</td>\n",
       "    </tr>\n",
       "    <tr>\n",
       "      <td>2010-01-12</td>\n",
       "      <td>26.883831</td>\n",
       "      <td>26.958369</td>\n",
       "      <td>26.527847</td>\n",
       "      <td>26.694915</td>\n",
       "      <td>148614900.0</td>\n",
       "      <td>-0.011375</td>\n",
       "      <td>-0.020096</td>\n",
       "    </tr>\n",
       "    <tr>\n",
       "      <td>2010-01-13</td>\n",
       "      <td>26.714192</td>\n",
       "      <td>27.107445</td>\n",
       "      <td>26.229695</td>\n",
       "      <td>27.071461</td>\n",
       "      <td>151473000.0</td>\n",
       "      <td>0.014106</td>\n",
       "      <td>0.002570</td>\n",
       "    </tr>\n",
       "    <tr>\n",
       "      <td>2010-01-14</td>\n",
       "      <td>27.002063</td>\n",
       "      <td>27.047043</td>\n",
       "      <td>26.861983</td>\n",
       "      <td>26.914674</td>\n",
       "      <td>108223500.0</td>\n",
       "      <td>-0.005792</td>\n",
       "      <td>0.008232</td>\n",
       "    </tr>\n",
       "    <tr>\n",
       "      <td>2010-01-15</td>\n",
       "      <td>27.107445</td>\n",
       "      <td>27.193549</td>\n",
       "      <td>26.457164</td>\n",
       "      <td>26.464875</td>\n",
       "      <td>148516900.0</td>\n",
       "      <td>-0.016712</td>\n",
       "      <td>-0.022407</td>\n",
       "    </tr>\n",
       "    <tr>\n",
       "      <td>2010-01-19</td>\n",
       "      <td>26.773309</td>\n",
       "      <td>27.654914</td>\n",
       "      <td>26.633228</td>\n",
       "      <td>27.635637</td>\n",
       "      <td>182501900.0</td>\n",
       "      <td>0.044238</td>\n",
       "      <td>0.026787</td>\n",
       "    </tr>\n",
       "    <tr>\n",
       "      <td>2010-01-20</td>\n",
       "      <td>27.618930</td>\n",
       "      <td>27.701179</td>\n",
       "      <td>26.923670</td>\n",
       "      <td>27.209613</td>\n",
       "      <td>153038200.0</td>\n",
       "      <td>-0.015416</td>\n",
       "      <td>0.028141</td>\n",
       "    </tr>\n",
       "  </tbody>\n",
       "</table>\n",
       "</div>"
      ],
      "text/plain": [
       "                 Open       High        Low      Close       Volume    Return  \\\n",
       "Date                                                                            \n",
       "2010-01-06  27.550818  27.660055  27.084312  27.112585  138040000.0 -0.015906   \n",
       "2010-01-07  27.212826  27.244955  26.865839  27.062465  119282800.0 -0.001849   \n",
       "2010-01-08  27.026481  27.244955  26.867124  27.242385  111902700.0  0.006648   \n",
       "2010-01-11  27.347766  27.373469  26.788730  27.002063  115557400.0 -0.008822   \n",
       "2010-01-12  26.883831  26.958369  26.527847  26.694915  148614900.0 -0.011375   \n",
       "2010-01-13  26.714192  27.107445  26.229695  27.071461  151473000.0  0.014106   \n",
       "2010-01-14  27.002063  27.047043  26.861983  26.914674  108223500.0 -0.005792   \n",
       "2010-01-15  27.107445  27.193549  26.457164  26.464875  148516900.0 -0.016712   \n",
       "2010-01-19  26.773309  27.654914  26.633228  27.635637  182501900.0  0.044238   \n",
       "2010-01-20  27.618930  27.701179  26.923670  27.209613  153038200.0 -0.015416   \n",
       "\n",
       "             Return1  \n",
       "Date                  \n",
       "2010-01-06 -0.014205  \n",
       "2010-01-07 -0.017726  \n",
       "2010-01-08  0.004787  \n",
       "2010-01-11 -0.002232  \n",
       "2010-01-12 -0.020096  \n",
       "2010-01-13  0.002570  \n",
       "2010-01-14  0.008232  \n",
       "2010-01-15 -0.022407  \n",
       "2010-01-19  0.026787  \n",
       "2010-01-20  0.028141  "
      ]
     },
     "metadata": {},
     "output_type": "display_data"
    }
   ],
   "source": [
    "start = '2010-01-01'\n",
    "end = '2019-12-31'\n",
    "symbol = 'AAPL'\n",
    "QUANDL_API_KEY = 'E__A5fUxeqZ961ANiKxA'\n",
    "data = web.DataReader(name=symbol, data_source='quandl', start=start, end=end, api_key = QUANDL_API_KEY)\n",
    "col = ['AdjOpen', 'AdjHigh', 'AdjLow', 'AdjClose', 'AdjVolume']\n",
    "data = data[col]\n",
    "data.columns = ['Open', 'High', 'Low', 'Close', 'Volume']\n",
    "data.sort_index(inplace = True)\n",
    "data['Return'] = data['Close'].pct_change()\n",
    "data.dropna(inplace = True)\n",
    "display(data.head(10))"
   ]
  },
  {
   "cell_type": "code",
   "execution_count": 10,
   "metadata": {},
   "outputs": [
    {
     "name": "stdout",
     "output_type": "stream",
     "text": [
      "RSI (first 10 elements)\n",
      " [        nan         nan         nan         nan         nan         nan\n",
      "         nan         nan         nan         nan         nan         nan\n",
      "         nan         nan 38.88832436 42.49420764 44.87117138 37.49305409\n",
      " 32.63357041 35.93361041 37.33431193 41.44589293 36.0229228  40.03585633]\n"
     ]
    }
   ],
   "source": [
    "close = data['Close'].values\n",
    "up, mid, low = BBANDS(close, timeperiod=20, nbdevup=2, nbdevdn=2, matype=0)\n",
    "rsi = RSI(close, timeperiod=14)\n",
    "print(\"RSI (first 10 elements)\\n\", rsi[:24])"
   ]
  },
  {
   "cell_type": "code",
   "execution_count": 21,
   "metadata": {},
   "outputs": [
    {
     "name": "stdout",
     "output_type": "stream",
     "text": [
      "HT_DCPERIOD\n"
     ]
    }
   ],
   "source": [
    "print(talib.get_functions()[0])"
   ]
  },
  {
   "cell_type": "code",
   "execution_count": 22,
   "metadata": {},
   "outputs": [
    {
     "name": "stdout",
     "output_type": "stream",
     "text": [
      "<class 'str'>\n"
     ]
    }
   ],
   "source": [
    "a = talib.get_functions()[0]\n",
    "print(type(a))"
   ]
  },
  {
   "cell_type": "code",
   "execution_count": 27,
   "metadata": {},
   "outputs": [
    {
     "data": {
      "text/plain": [
       "<function talib._ta_lib.RSI>"
      ]
     },
     "execution_count": 27,
     "metadata": {},
     "output_type": "execute_result"
    }
   ],
   "source": [
    "locals()['RSI']"
   ]
  },
  {
   "cell_type": "code",
   "execution_count": null,
   "metadata": {},
   "outputs": [],
   "source": []
  }
 ],
 "metadata": {
  "kernelspec": {
   "display_name": "Python 3",
   "language": "python",
   "name": "python3"
  },
  "language_info": {
   "codemirror_mode": {
    "name": "ipython",
    "version": 3
   },
   "file_extension": ".py",
   "mimetype": "text/x-python",
   "name": "python",
   "nbconvert_exporter": "python",
   "pygments_lexer": "ipython3",
   "version": "3.7.4"
  }
 },
 "nbformat": 4,
 "nbformat_minor": 2
}
