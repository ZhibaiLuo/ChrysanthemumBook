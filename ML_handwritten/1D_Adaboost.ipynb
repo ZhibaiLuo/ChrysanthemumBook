{
 "cells": [
  {
   "cell_type": "code",
   "execution_count": 1,
   "metadata": {},
   "outputs": [],
   "source": [
    "import numpy as np\n",
    "import math\n",
    "import pandas as pd\n",
    "x = [0, 1, 2, 3, 4, 5, 6, 7, 8, 9]\n",
    "y = [1, 1, 1,-1,-1,-1, 1, 1, 1,-1]\n",
    "T = 3"
   ]
  },
  {
   "cell_type": "code",
   "execution_count": 2,
   "metadata": {},
   "outputs": [
    {
     "data": {
      "text/plain": [
       "[0.1, 0.1, 0.1, 0.1, 0.1, 0.1, 0.1, 0.1, 0.1, 0.1]"
      ]
     },
     "execution_count": 2,
     "metadata": {},
     "output_type": "execute_result"
    }
   ],
   "source": [
    "# 对于每个样本先生成相等的权重\n",
    "def gene_w_1(x):\n",
    "    w = 1 / len(x)\n",
    "    return [w for i in range(len(x))]\n",
    "w_n = gene_w_1(x)\n",
    "w_n"
   ]
  },
  {
   "cell_type": "code",
   "execution_count": 3,
   "metadata": {},
   "outputs": [
    {
     "data": {
      "text/plain": [
       "[-0.5, 0.5, 1.5, 2.5, 3.5, 4.5, 5.5, 6.5, 7.5, 8.5, 9.5]"
      ]
     },
     "execution_count": 3,
     "metadata": {},
     "output_type": "execute_result"
    }
   ],
   "source": [
    "# 对于数据集生成所有可以用于分类的阈值\n",
    "def gene_threshs(x):\n",
    "    threshs = [(x[i]+x[i+1])/2 for i in range(len(x)-1)]\n",
    "    return [x[0]-0.5] + threshs + [x[-1]+0.5]\n",
    "threshs = gene_threshs(x)\n",
    "threshs"
   ]
  },
  {
   "cell_type": "code",
   "execution_count": 4,
   "metadata": {},
   "outputs": [
    {
     "data": {
      "text/plain": [
       "({-0.5: [1, 1, 1, 1, 1, 1, 1, 1, 1, 1],\n",
       "  0.5: [-1, 1, 1, 1, 1, 1, 1, 1, 1, 1],\n",
       "  1.5: [-1, -1, 1, 1, 1, 1, 1, 1, 1, 1],\n",
       "  2.5: [-1, -1, -1, 1, 1, 1, 1, 1, 1, 1],\n",
       "  3.5: [-1, -1, -1, -1, 1, 1, 1, 1, 1, 1],\n",
       "  4.5: [-1, -1, -1, -1, -1, 1, 1, 1, 1, 1],\n",
       "  5.5: [-1, -1, -1, -1, -1, -1, 1, 1, 1, 1],\n",
       "  6.5: [-1, -1, -1, -1, -1, -1, -1, 1, 1, 1],\n",
       "  7.5: [-1, -1, -1, -1, -1, -1, -1, -1, 1, 1],\n",
       "  8.5: [-1, -1, -1, -1, -1, -1, -1, -1, -1, 1],\n",
       "  9.5: [-1, -1, -1, -1, -1, -1, -1, -1, -1, -1]},\n",
       " {-0.5: [-1, -1, -1, -1, -1, -1, -1, -1, -1, -1],\n",
       "  0.5: [1, -1, -1, -1, -1, -1, -1, -1, -1, -1],\n",
       "  1.5: [1, 1, -1, -1, -1, -1, -1, -1, -1, -1],\n",
       "  2.5: [1, 1, 1, -1, -1, -1, -1, -1, -1, -1],\n",
       "  3.5: [1, 1, 1, 1, -1, -1, -1, -1, -1, -1],\n",
       "  4.5: [1, 1, 1, 1, 1, -1, -1, -1, -1, -1],\n",
       "  5.5: [1, 1, 1, 1, 1, 1, -1, -1, -1, -1],\n",
       "  6.5: [1, 1, 1, 1, 1, 1, 1, -1, -1, -1],\n",
       "  7.5: [1, 1, 1, 1, 1, 1, 1, 1, -1, -1],\n",
       "  8.5: [1, 1, 1, 1, 1, 1, 1, 1, 1, -1],\n",
       "  9.5: [1, 1, 1, 1, 1, 1, 1, 1, 1, 1]})"
      ]
     },
     "execution_count": 4,
     "metadata": {},
     "output_type": "execute_result"
    }
   ],
   "source": [
    "# 对每一个阈值进行预测，每个阈值左右的正负有两种预测方法\n",
    "# 得到两个阈值-预测的字典\n",
    "def pred_with_threds_both_sides(x, threshs):\n",
    "    y_preds_all_threshs_pos = {}\n",
    "    y_preds_all_threshs_neg = {}\n",
    "    for thresh in threshs:\n",
    "        y_preshs_pos = []\n",
    "        y_preshs_neg = []\n",
    "        for i in range(len(x)):\n",
    "            if x[i] >= thresh:\n",
    "                y_preshs_pos.append(1)\n",
    "                y_preshs_neg.append(-1)\n",
    "            else:\n",
    "                y_preshs_pos.append(-1)\n",
    "                y_preshs_neg.append(1)\n",
    "        y_preds_all_threshs_pos[thresh] = y_preshs_pos\n",
    "        y_preds_all_threshs_neg[thresh] = y_preshs_neg\n",
    "    return y_preds_all_threshs_pos, y_preds_all_threshs_neg\n",
    "y_preds_all_threshs_pos, y_preds_all_threshs_neg = pred_with_threds_both_sides(x, threshs)\n",
    "y_preds_all_threshs_pos, y_preds_all_threshs_neg"
   ]
  },
  {
   "cell_type": "code",
   "execution_count": 5,
   "metadata": {},
   "outputs": [
    {
     "data": {
      "text/plain": [
       "0.6"
      ]
     },
     "execution_count": 5,
     "metadata": {},
     "output_type": "execute_result"
    }
   ],
   "source": [
    "# 对于一个预测，计算错误率，就是把错误分类样本的权重相加\n",
    "def cal_e(y, w_n, thresh, y_preds_all_threshs):\n",
    "    e = 0\n",
    "    for i in range(len(y)):\n",
    "        if y[i] != y_preds_all_threshs[thresh][i]:\n",
    "            e += w_n[i]\n",
    "    return e\n",
    "e = cal_e(y, w_n, threshs[2], y_preds_all_threshs_pos)\n",
    "e"
   ]
  },
  {
   "cell_type": "code",
   "execution_count": 6,
   "metadata": {},
   "outputs": [
    {
     "data": {
      "text/plain": [
       "({-0.5: 0.4,\n",
       "  0.5: 0.5,\n",
       "  1.5: 0.6,\n",
       "  2.5: 0.7,\n",
       "  3.5: 0.6,\n",
       "  4.5: 0.5,\n",
       "  5.5: 0.4,\n",
       "  6.5: 0.5,\n",
       "  7.5: 0.6,\n",
       "  8.5: 0.7,\n",
       "  9.5: 0.6},\n",
       " 0.4,\n",
       " -0.5)"
      ]
     },
     "execution_count": 6,
     "metadata": {},
     "output_type": "execute_result"
    }
   ],
   "source": [
    "# 阈值-预测的字典变成阈值-误差的字典\n",
    "# 返回最小误差 和对应的阈值\n",
    "def cal_e_s(y, w_n, threshs, y_preds_all_threshs):\n",
    "    e_s = {}\n",
    "    e_min = 1\n",
    "    n = 0\n",
    "    for thresh in threshs:\n",
    "        e = round(cal_e(y, w_n, thresh, y_preds_all_threshs),6)\n",
    "        e_s[thresh] = e\n",
    "        if e < e_min:\n",
    "            e_min, n = e, thresh\n",
    "    return e_s, e_min, n\n",
    "e_s, e_min, n = cal_e_s(y, w_n, threshs, y_preds_all_threshs_pos)\n",
    "e_s, e_min, n"
   ]
  },
  {
   "cell_type": "code",
   "execution_count": 7,
   "metadata": {},
   "outputs": [
    {
     "data": {
      "text/plain": [
       "({-0.5: 0.714285,\n",
       "  0.5: 0.642857,\n",
       "  1.5: 0.571429,\n",
       "  2.5: 0.500001,\n",
       "  3.5: 0.571429,\n",
       "  4.5: 0.642857,\n",
       "  5.5: 0.714285,\n",
       "  6.5: 0.547618,\n",
       "  7.5: 0.380951,\n",
       "  8.5: 0.214284,\n",
       "  9.5: 0.285712},\n",
       " 0.214284,\n",
       " 8.5,\n",
       " {-0.5: [-1, -1, -1, -1, -1, -1, -1, -1, -1, -1],\n",
       "  0.5: [1, -1, -1, -1, -1, -1, -1, -1, -1, -1],\n",
       "  1.5: [1, 1, -1, -1, -1, -1, -1, -1, -1, -1],\n",
       "  2.5: [1, 1, 1, -1, -1, -1, -1, -1, -1, -1],\n",
       "  3.5: [1, 1, 1, 1, -1, -1, -1, -1, -1, -1],\n",
       "  4.5: [1, 1, 1, 1, 1, -1, -1, -1, -1, -1],\n",
       "  5.5: [1, 1, 1, 1, 1, 1, -1, -1, -1, -1],\n",
       "  6.5: [1, 1, 1, 1, 1, 1, 1, -1, -1, -1],\n",
       "  7.5: [1, 1, 1, 1, 1, 1, 1, 1, -1, -1],\n",
       "  8.5: [1, 1, 1, 1, 1, 1, 1, 1, 1, -1],\n",
       "  9.5: [1, 1, 1, 1, 1, 1, 1, 1, 1, 1]})"
      ]
     },
     "execution_count": 7,
     "metadata": {},
     "output_type": "execute_result"
    }
   ],
   "source": [
    "# 正负两种阈值-预测的字典同时调用函数，返回最小误差的结果,加上预测的字典\n",
    "def cal_e_s_both(y, w_n, threshs, y_preds_all_threshs_pos, y_preds_all_threshs_neg):\n",
    "    e_s_pos, e_min_pos, n_pos = cal_e_s(y, w_n, threshs, y_preds_all_threshs_pos)\n",
    "    e_s_neg, e_min_neg, n_neg = cal_e_s(y, w_n, threshs, y_preds_all_threshs_neg)\n",
    "    if e_min_pos <= e_min_neg:\n",
    "        return e_s_pos, e_min_pos, n_pos, y_preds_all_threshs_pos\n",
    "    else:\n",
    "        return e_s_neg, e_min_neg, n_neg, y_preds_all_threshs_neg\n",
    "e_s, e_min, n, y_preds_all_threshs = cal_e_s_both(y, [0.071428, 0.071428, 0.071428, 0.071428, 0.071428, 0.071428, 0.166667, 0.166667, 0.166667, 0.071428], threshs, y_preds_all_threshs_pos, y_preds_all_threshs_neg)\n",
    "e_s, e_min, n, y_preds_all_threshs"
   ]
  },
  {
   "cell_type": "code",
   "execution_count": 8,
   "metadata": {},
   "outputs": [
    {
     "data": {
      "text/plain": [
       "[1, 1, 1, 1, 1, 1, 1, 1, 1, -1]"
      ]
     },
     "execution_count": 8,
     "metadata": {},
     "output_type": "execute_result"
    }
   ],
   "source": [
    "# 取出模型的预测\n",
    "def get_pred(n, y_preds_all_threshs):\n",
    "    return y_preds_all_threshs[n]\n",
    "y_pred = get_pred(n, y_preds_all_threshs)\n",
    "y_pred"
   ]
  },
  {
   "cell_type": "code",
   "execution_count": 9,
   "metadata": {},
   "outputs": [
    {
     "data": {
      "text/plain": [
       "0.649647"
      ]
     },
     "execution_count": 9,
     "metadata": {},
     "output_type": "execute_result"
    }
   ],
   "source": [
    "# 计算模型的权重\n",
    "def get_model_w(e_min):\n",
    "    return round(0.5 * math.log((1-e_min)/e_min), 6)\n",
    "model_w = get_model_w(e_min)\n",
    "model_w"
   ]
  },
  {
   "cell_type": "code",
   "execution_count": 10,
   "metadata": {},
   "outputs": [
    {
     "data": {
      "text/plain": [
       "[0.055555,\n",
       " 0.055555,\n",
       " 0.055555,\n",
       " 0.203704,\n",
       " 0.203704,\n",
       " 0.203704,\n",
       " 0.055555,\n",
       " 0.055555,\n",
       " 0.055555,\n",
       " 0.055555]"
      ]
     },
     "execution_count": 10,
     "metadata": {},
     "output_type": "execute_result"
    }
   ],
   "source": [
    "# 计算每个样本的权重\n",
    "def update_w_n(x, y, w_n, y_pred, model_w):\n",
    "    w_n_new = []\n",
    "    for i in range(len(x)):\n",
    "        w_new = w_n[i] * math.exp(-model_w * y[i] * y_pred[i])\n",
    "        w_new = round(w_new, 6)\n",
    "        w_n_new.append(w_new)\n",
    "    z = np.sum(w_n_new)\n",
    "    w_n_new = [round(i/z,6) for i in w_n_new]\n",
    "    return list(w_n_new)\n",
    "w_n = update_w_n(x, y, w_n, y_pred, model_w)\n",
    "w_n"
   ]
  },
  {
   "cell_type": "code",
   "execution_count": 11,
   "metadata": {},
   "outputs": [
    {
     "data": {
      "text/plain": [
       "[0.649647,\n",
       " 0.649647,\n",
       " 0.649647,\n",
       " 0.649647,\n",
       " 0.649647,\n",
       " 0.649647,\n",
       " 0.649647,\n",
       " 0.649647,\n",
       " 0.649647,\n",
       " -0.649647]"
      ]
     },
     "execution_count": 11,
     "metadata": {},
     "output_type": "execute_result"
    }
   ],
   "source": [
    "# 得到模型加权之后的预测\n",
    "def y_pred_with_w(y_pred, model_w):\n",
    "    return [round(i*model_w,6) for i in y_pred]\n",
    "g_n = y_pred_with_w(y_pred, model_w)\n",
    "g_n"
   ]
  },
  {
   "cell_type": "code",
   "execution_count": 12,
   "metadata": {},
   "outputs": [],
   "source": [
    "def Adaboost(x, y, T):\n",
    "    weight_n = []\n",
    "    model_w_n = []\n",
    "    y_pred_n = []\n",
    "    y_pred_w = []\n",
    "    \n",
    "    w_n = gene_w_1(x)\n",
    "    weight_n.append(w_n)\n",
    "    threshs = gene_threshs(x)\n",
    "    \n",
    "    for i in range(3):\n",
    "        w_n = weight_n[-1]\n",
    "        # 产生正反两种预测\n",
    "        y_preds_all_threshs_pos, y_preds_all_threshs_neg = pred_with_threds_both_sides(x, threshs)\n",
    "        # 对每种预测计算误差，保存最小的\n",
    "        e_s, e_min, n, y_preds_all_threshs = cal_e_s_both(y, w_n, threshs, y_preds_all_threshs_pos, y_preds_all_threshs_neg)\n",
    "        # 取出最佳的预测\n",
    "        y_pred = get_pred(n, y_preds_all_threshs)\n",
    "        # 模型权重\n",
    "        model_w = get_model_w(e_min)\n",
    "        # 更新样本权重\n",
    "        w_n = update_w_n(x, y, w_n, y_pred, model_w)\n",
    "        # 计算带权重的预测\n",
    "        g_n = y_pred_with_w(y_pred, model_w)\n",
    "        weight_n.append(w_n)\n",
    "        model_w_n.append(model_w)\n",
    "        y_pred_n.append(y_pred)\n",
    "        y_pred_w.append(g_n)\n",
    "    return weight_n, model_w_n, y_pred_n, y_pred_w\n",
    "weight_n, model_w_n, y_pred_n, y_pred_w = Adaboost(x, y, T)"
   ]
  },
  {
   "cell_type": "code",
   "execution_count": 15,
   "metadata": {},
   "outputs": [
    {
     "data": {
      "text/html": [
       "<div>\n",
       "<style scoped>\n",
       "    .dataframe tbody tr th:only-of-type {\n",
       "        vertical-align: middle;\n",
       "    }\n",
       "\n",
       "    .dataframe tbody tr th {\n",
       "        vertical-align: top;\n",
       "    }\n",
       "\n",
       "    .dataframe thead th {\n",
       "        text-align: right;\n",
       "    }\n",
       "</style>\n",
       "<table border=\"1\" class=\"dataframe\">\n",
       "  <thead>\n",
       "    <tr style=\"text-align: right;\">\n",
       "      <th></th>\n",
       "      <th>x</th>\n",
       "      <th>y</th>\n",
       "      <th>y_pred_1</th>\n",
       "      <th>y_pred_2</th>\n",
       "      <th>y_pred_3</th>\n",
       "      <th>y_pred</th>\n",
       "    </tr>\n",
       "  </thead>\n",
       "  <tbody>\n",
       "    <tr>\n",
       "      <th>0</th>\n",
       "      <td>0</td>\n",
       "      <td>1</td>\n",
       "      <td>0.423649</td>\n",
       "      <td>0.649647</td>\n",
       "      <td>-0.752046</td>\n",
       "      <td>1.0</td>\n",
       "    </tr>\n",
       "    <tr>\n",
       "      <th>1</th>\n",
       "      <td>1</td>\n",
       "      <td>1</td>\n",
       "      <td>0.423649</td>\n",
       "      <td>0.649647</td>\n",
       "      <td>-0.752046</td>\n",
       "      <td>1.0</td>\n",
       "    </tr>\n",
       "    <tr>\n",
       "      <th>2</th>\n",
       "      <td>2</td>\n",
       "      <td>1</td>\n",
       "      <td>0.423649</td>\n",
       "      <td>0.649647</td>\n",
       "      <td>-0.752046</td>\n",
       "      <td>1.0</td>\n",
       "    </tr>\n",
       "    <tr>\n",
       "      <th>3</th>\n",
       "      <td>3</td>\n",
       "      <td>-1</td>\n",
       "      <td>-0.423649</td>\n",
       "      <td>0.649647</td>\n",
       "      <td>-0.752046</td>\n",
       "      <td>-1.0</td>\n",
       "    </tr>\n",
       "    <tr>\n",
       "      <th>4</th>\n",
       "      <td>4</td>\n",
       "      <td>-1</td>\n",
       "      <td>-0.423649</td>\n",
       "      <td>0.649647</td>\n",
       "      <td>-0.752046</td>\n",
       "      <td>-1.0</td>\n",
       "    </tr>\n",
       "    <tr>\n",
       "      <th>5</th>\n",
       "      <td>5</td>\n",
       "      <td>-1</td>\n",
       "      <td>-0.423649</td>\n",
       "      <td>0.649647</td>\n",
       "      <td>-0.752046</td>\n",
       "      <td>-1.0</td>\n",
       "    </tr>\n",
       "    <tr>\n",
       "      <th>6</th>\n",
       "      <td>6</td>\n",
       "      <td>1</td>\n",
       "      <td>-0.423649</td>\n",
       "      <td>0.649647</td>\n",
       "      <td>0.752046</td>\n",
       "      <td>1.0</td>\n",
       "    </tr>\n",
       "    <tr>\n",
       "      <th>7</th>\n",
       "      <td>7</td>\n",
       "      <td>1</td>\n",
       "      <td>-0.423649</td>\n",
       "      <td>0.649647</td>\n",
       "      <td>0.752046</td>\n",
       "      <td>1.0</td>\n",
       "    </tr>\n",
       "    <tr>\n",
       "      <th>8</th>\n",
       "      <td>8</td>\n",
       "      <td>1</td>\n",
       "      <td>-0.423649</td>\n",
       "      <td>0.649647</td>\n",
       "      <td>0.752046</td>\n",
       "      <td>1.0</td>\n",
       "    </tr>\n",
       "    <tr>\n",
       "      <th>9</th>\n",
       "      <td>9</td>\n",
       "      <td>-1</td>\n",
       "      <td>-0.423649</td>\n",
       "      <td>-0.649647</td>\n",
       "      <td>0.752046</td>\n",
       "      <td>-1.0</td>\n",
       "    </tr>\n",
       "  </tbody>\n",
       "</table>\n",
       "</div>"
      ],
      "text/plain": [
       "   x  y  y_pred_1  y_pred_2  y_pred_3  y_pred\n",
       "0  0  1  0.423649  0.649647 -0.752046     1.0\n",
       "1  1  1  0.423649  0.649647 -0.752046     1.0\n",
       "2  2  1  0.423649  0.649647 -0.752046     1.0\n",
       "3  3 -1 -0.423649  0.649647 -0.752046    -1.0\n",
       "4  4 -1 -0.423649  0.649647 -0.752046    -1.0\n",
       "5  5 -1 -0.423649  0.649647 -0.752046    -1.0\n",
       "6  6  1 -0.423649  0.649647  0.752046     1.0\n",
       "7  7  1 -0.423649  0.649647  0.752046     1.0\n",
       "8  8  1 -0.423649  0.649647  0.752046     1.0\n",
       "9  9 -1 -0.423649 -0.649647  0.752046    -1.0"
      ]
     },
     "metadata": {},
     "output_type": "display_data"
    },
    {
     "data": {
      "text/plain": [
       "0     2.321250\n",
       "1     3.321250\n",
       "2     4.321250\n",
       "3     0.473952\n",
       "4     1.473952\n",
       "5     2.473952\n",
       "6     8.978044\n",
       "7     9.978044\n",
       "8    10.978044\n",
       "9     6.678750\n",
       "dtype: float64"
      ]
     },
     "execution_count": 15,
     "metadata": {},
     "output_type": "execute_result"
    }
   ],
   "source": [
    "table = {'x':x, 'y':y}\n",
    "for i, pred in enumerate(y_pred_w):\n",
    "    table['y_pred_'+str(i+1)] = pred\n",
    "table = pd.DataFrame(table)\n",
    "table['y_pred'] = table['y_pred_1'] + table['y_pred_2'] + table['y_pred_3']\n",
    "table['y_pred'] = np.sign(table['y_pred'])\n",
    "display(table)\n",
    "table.sum(axis = 1)"
   ]
  },
  {
   "cell_type": "code",
   "execution_count": null,
   "metadata": {},
   "outputs": [],
   "source": []
  }
 ],
 "metadata": {
  "kernelspec": {
   "display_name": "Python 3",
   "language": "python",
   "name": "python3"
  },
  "language_info": {
   "codemirror_mode": {
    "name": "ipython",
    "version": 3
   },
   "file_extension": ".py",
   "mimetype": "text/x-python",
   "name": "python",
   "nbconvert_exporter": "python",
   "pygments_lexer": "ipython3",
   "version": "3.7.6"
  }
 },
 "nbformat": 4,
 "nbformat_minor": 4
}
